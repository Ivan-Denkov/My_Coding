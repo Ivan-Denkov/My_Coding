{
  "cells": [
    {
      "cell_type": "markdown",
      "id": "50139273",
      "metadata": {},
      "source": [
        "Отримання 15 атрибутів для подальшої обробки"
      ]
    },
    {
      "cell_type": "code",
      "execution_count": null,
      "id": "V4KtX5Kzr9hzGGZvLdttJ3L4",
      "metadata": {
        "id": "V4KtX5Kzr9hzGGZvLdttJ3L4",
        "tags": []
      },
      "outputs": [],
      "source": [
        "#Ініціалізація (потрібна для подальшої роботи з інструментами GEE)\n",
        "import ee\n",
        "ee.Authenticate()\n",
        "ee.Initialize(project='%Your project ID%')"
      ]
    },
    {
      "cell_type": "code",
      "execution_count": null,
      "id": "27VINz1-2RvT",
      "metadata": {
        "id": "27VINz1-2RvT"
      },
      "outputs": [],
      "source": [
        "#Вивантаження отриманих даних зі сховища на сервері Google Cloud для Польщі (для України - аналогічно)\n",
        "\n",
        "from google.cloud import storage\n",
        "import json\n",
        "points=[]\n",
        "\n",
        "client = storage.Client()\n",
        "\n",
        "bucket = client.get_bucket('%your_bucket_name%')\n",
        "\n",
        "blob = bucket.blob('points_poland.json')\n",
        "\n",
        "data_json = blob.download_as_string()\n",
        "\n",
        "points = json.loads(data_json)\n",
        "\n",
        "points"
      ]
    },
    {
      "cell_type": "code",
      "execution_count": null,
      "id": "5dba3b28",
      "metadata": {},
      "outputs": [],
      "source": [
        "#Вивантаження даних з CSV-файлу для Польщі (для України - аналогічно)\n",
        "\n",
        "import csv\n",
        "\n",
        "points = []\n",
        "\n",
        "with open('points_poland.csv', newline='') as csvfile:\n",
        "    reader = csv.reader(csvfile, delimiter=',')\n",
        "    for row in reader:\n",
        "        cleaned_row = []\n",
        "        for value in row:\n",
        "            try:\n",
        "                cleaned_row.append(float(value.strip(\"[] \")))\n",
        "            except ValueError:\n",
        "                cleaned_row.append(value.strip(\"[] \"))\n",
        "        points.append(cleaned_row)\n",
        "\n",
        "print(points)"
      ]
    },
    {
      "cell_type": "code",
      "execution_count": null,
      "id": "2DmxFG2yRvLR",
      "metadata": {
        "id": "2DmxFG2yRvLR"
      },
      "outputs": [],
      "source": [
        "#Дата за номером дня в році\n",
        "\n",
        "from datetime import datetime, timedelta\n",
        "\n",
        "def get_date_from_day_of_year(year, day_of_year):\n",
        "    base_date = datetime(year, 1, 1)  # начальная дата года\n",
        "    target_date = base_date + timedelta(days=day_of_year - 1)  # вычисляем нужную дату\n",
        "\n",
        "    return target_date.strftime('%Y-%m-%d')  # преобразуем дату в строку"
      ]
    },
    {
      "cell_type": "code",
      "execution_count": null,
      "id": "fKo0PH-eSq1P",
      "metadata": {
        "colab": {
          "base_uri": "https://localhost:8080/"
        },
        "executionInfo": {
          "elapsed": 54130,
          "status": "ok",
          "timestamp": 1715552954311,
          "user": {
            "displayName": "",
            "userId": ""
          },
          "user_tz": -180
        },
        "id": "fKo0PH-eSq1P",
        "outputId": "5b04ab97-d04c-4f62-96bf-ee4fa2a0c14d"
      },
      "outputs": [],
      "source": [
        "#Отримання даних по фотосинтетично активній радіації (4 атрибути)\n",
        "scale=1000\n",
        "TotalTable=[]\n",
        "collection=\"MODIS/061/MCD18C2\"\n",
        "for point in points:\n",
        "    if point[3] is None:\n",
        "        end_date=point[0]\n",
        "        s_date=datetime.strptime(point[0], '%Y-%m-%d') - timedelta(days=7)\n",
        "        start_date=s_date.strftime('%Y-%m-%d')\n",
        "    else:\n",
        "        parsed_date = datetime.strptime(point[0], '%Y-%m-%d')\n",
        "        year = parsed_date.year\n",
        "        start_date=get_date_from_day_of_year(year, point[3]-7)\n",
        "        end_date=get_date_from_day_of_year(year, point[3])\n",
        "    fire_point = ee.Geometry.Point(point[1], point[2])\n",
        "    PAR=ee.ImageCollection(collection)\n",
        "    PAR12=PAR.select('GMT_1200_PAR').filterDate(start_date, end_date)\n",
        "    PAR12=PAR12.getRegion(fire_point, scale).getInfo()\n",
        "    PAR12=PAR12[1:]\n",
        "    print(PAR12)\n",
        "    TotalTable.append([point[1], point[2], end_date, PAR12[0][-1], PAR12[2][-1], PAR12[3][-1], PAR12[6][-1]])"
      ]
    },
    {
      "cell_type": "code",
      "execution_count": null,
      "id": "p3F-mFXTiB5W",
      "metadata": {
        "id": "p3F-mFXTiB5W"
      },
      "outputs": [],
      "source": [
        "#Отримання даних по непарному кисню в атмосферному стовпі (6 атрибутів)\n",
        "scale=1000\n",
        "O2column_collection=ee.ImageCollection(\"NASA/GSFC/MERRA/slv/2\")\n",
        "samples=[]\n",
        "for i in range(len(TotalTable)):\n",
        "    e_date=datetime.strptime(TotalTable[i][2], '%Y-%m-%d') - timedelta(days=2)\n",
        "    s_date=datetime.strptime(TotalTable[i][2], '%Y-%m-%d') - timedelta(days=7)\n",
        "    start_date=s_date.strftime('%Y-%m-%d')\n",
        "    end_date=e_date.strftime('%Y-%m-%d')\n",
        "    #print(start_date, end_date)\n",
        "    #counter+=1\n",
        "    fire_point = ee.Geometry.Point(TotalTable[i][0], TotalTable[i][1])\n",
        "    O2column=O2column_collection.select('TOX').filterDate(start_date, end_date)\n",
        "    O2column=O2column.getRegion(fire_point, scale).getInfo()\n",
        "    O2column=O2column[1:]\n",
        "    counter=0\n",
        "    samples.append([])\n",
        "    for j in range(len(O2column)):\n",
        "        counter+=O2column[j][-1]\n",
        "        if (j+1)%24==0:\n",
        "            samples[-1].extend([counter/24])\n",
        "            counter=0\n",
        "    TotalTable[i].extend([samples[-1][0], samples[-1][1], samples[-1][2], samples[-1][3]-samples[-1][2], samples[-1][2]-2*samples[-1][1]+samples[-1][0], samples[-1][4]-2*samples[-1][3]+samples[-1][2]])\n",
        "    print(TotalTable[i])"
      ]
    },
    {
      "cell_type": "code",
      "execution_count": null,
      "id": "BFBh3ry6bpj3",
      "metadata": {
        "id": "BFBh3ry6bpj3"
      },
      "outputs": [],
      "source": [
        "#Отримання даних по атмосферних опадах (3 атрибути)\n",
        "scale=1000\n",
        "samples=[]\n",
        "Precip2GC_collection=ee.ImageCollection(\"JAXA/GPM_L3/GSMaP/v6/operational\")\n",
        "for i in range(len(TotalTable)):\n",
        "    end_date=TotalTable[i][2]\n",
        "    s_date=datetime.strptime(TotalTable[i][2], '%Y-%m-%d') - timedelta(days=6)\n",
        "    start_date=s_date.strftime('%Y-%m-%d')\n",
        "    print(start_date, end_date)\n",
        "    fire_point = ee.Geometry.Point(TotalTable[i][0], TotalTable[i][1])\n",
        "    Precip2GC=Precip2GC_collection.select('hourlyPrecipRateGC').filterDate(start_date, end_date)\n",
        "    info=Precip2GC.getInfo()\n",
        "    if not info['features']:\n",
        "        TotalTable[i].extend([None, None, None])\n",
        "        continue\n",
        "    else:\n",
        "        Precip2GC=Precip2GC.getRegion(fire_point, scale).getInfo()\n",
        "    Precip2GC=Precip2GC[1:]\n",
        "    print(Precip2GC)\n",
        "    samples.append([])\n",
        "    counter=0\n",
        "    for j in range(len(Precip2GC)):\n",
        "        if Precip2GC[j][-1] is None:\n",
        "            counter=-1\n",
        "            break\n",
        "        else:\n",
        "            counter+=Precip2GC[j][-1]\n",
        "            if (j+1)%24==0:\n",
        "                samples[-1].extend([counter])\n",
        "                counter=0\n",
        "    if counter==-1:\n",
        "        del samples[-1]\n",
        "        TotalTable[i].extend([None, None, None])\n",
        "    else:\n",
        "        TotalTable[i].extend([samples[-1][0], samples[-1][1], samples[-1][5]])"
      ]
    },
    {
      "cell_type": "code",
      "execution_count": null,
      "id": "KyyLm7Rlhq9q",
      "metadata": {
        "colab": {
          "base_uri": "https://localhost:8080/"
        },
        "executionInfo": {
          "elapsed": 249119,
          "status": "ok",
          "timestamp": 1715597838653,
          "user": {
            "displayName": "",
            "userId": ""
          },
          "user_tz": -180
        },
        "id": "KyyLm7Rlhq9q",
        "outputId": "ab20b413-6663-4a82-b328-0747723cdead"
      },
      "outputs": [],
      "source": [
        "#Отримання даних по обсягах поглинання хлорофілу (1 атрибут)\n",
        "scale=1000\n",
        "Chl_collection=ee.ImageCollection(\"COPERNICUS/S3/OLCI\")\n",
        "for i in range(len(TotalTable)):\n",
        "    e_date=datetime.strptime(TotalTable[i][2], '%Y-%m-%d') - timedelta(days=4)\n",
        "    s_date=datetime.strptime(TotalTable[i][2], '%Y-%m-%d') - timedelta(days=5)\n",
        "    start_date=s_date.strftime('%Y-%m-%d')\n",
        "    end_date=e_date.strftime('%Y-%m-%d')\n",
        "    fire_point = ee.Geometry.Point(TotalTable[i][0], TotalTable[i][1])\n",
        "    Chl=Chl_collection.select('Oa03_radiance').filterDate(start_date, end_date)\n",
        "    info=Chl.getInfo()\n",
        "    if not info['features']:\n",
        "        TotalTable[i].extend([None])\n",
        "        continue\n",
        "    else:\n",
        "        Chl = Chl.map(lambda image: image.toFloat())\n",
        "        Chl=Chl.getRegion(fire_point, scale).getInfo()\n",
        "    Chl=Chl[1:]\n",
        "    for ch in Chl:\n",
        "        ch[0]=ch[0][4:12]\n",
        "        ch[0] = ch[0][:4] + '-' + ch[0][4:6] + '-' + ch[0][6:]\n",
        "    s_date = datetime.strptime(start_date, '%Y-%m-%d')\n",
        "    e_date = datetime.strptime(end_date, '%Y-%m-%d')\n",
        "    current_date=s_date\n",
        "    counter=0\n",
        "    aggr=0\n",
        "    while current_date<e_date:\n",
        "        for ch in Chl:\n",
        "            if ch[0]==current_date.strftime('%Y-%m-%d'):\n",
        "                if ch[-1] is None:\n",
        "                    continue\n",
        "                else:\n",
        "                    aggr+=ch[-1]\n",
        "                    counter+=1\n",
        "        if counter==0:\n",
        "            TotalTable[i].extend([None])\n",
        "        else:\n",
        "            TotalTable[i].extend([aggr/counter])\n",
        "        current_date += timedelta(days=1)\n",
        "        aggr=0\n",
        "        counter=0\n",
        "TotalTable"
      ]
    },
    {
      "cell_type": "code",
      "execution_count": null,
      "id": "zsPYf7J-p1-R",
      "metadata": {
        "colab": {
          "base_uri": "https://localhost:8080/"
        },
        "executionInfo": {
          "elapsed": 249881,
          "status": "ok",
          "timestamp": 1715599926757,
          "user": {
            "displayName": "",
            "userId": ""
          },
          "user_tz": -180
        },
        "id": "zsPYf7J-p1-R",
        "outputId": "eaa1727a-7582-46c8-961b-5edebeb497f1"
      },
      "outputs": [],
      "source": [
        "#Отримання даних по обсягах поглинання кисню (1 атрибут)\n",
        "scale=1000\n",
        "O2_collection=ee.ImageCollection(\"COPERNICUS/S3/OLCI\")\n",
        "for i in range(len(TotalTable)):\n",
        "    e_date=datetime.strptime(TotalTable[i][2], '%Y-%m-%d') - timedelta(days=4)\n",
        "    s_date=datetime.strptime(TotalTable[i][2], '%Y-%m-%d') - timedelta(days=5)\n",
        "    start_date=s_date.strftime('%Y-%m-%d')\n",
        "    end_date=e_date.strftime('%Y-%m-%d')\n",
        "    fire_point = ee.Geometry.Point(TotalTable[i][0], TotalTable[i][1])\n",
        "    O2=O2_collection.select('Oa12_radiance').filterDate(start_date, end_date)\n",
        "    info=O2.getInfo()\n",
        "    if not info['features']:\n",
        "        TotalTable[i].extend([None])\n",
        "        continue\n",
        "    else:\n",
        "        O2 = O2.map(lambda image: image.toFloat())\n",
        "        O2=O2.getRegion(fire_point, scale).getInfo()\n",
        "    O2=O2[1:]\n",
        "    print(O2)\n",
        "    for o2 in O2:\n",
        "        o2[0]=o2[0][4:12]\n",
        "        o2[0] = o2[0][:4] + '-' + o2[0][4:6] + '-' + o2[0][6:]\n",
        "    s_date = datetime.strptime(start_date, '%Y-%m-%d')\n",
        "    e_date = datetime.strptime(end_date, '%Y-%m-%d')\n",
        "    current_date=s_date\n",
        "    counter=0\n",
        "    aggr=0\n",
        "    while current_date<e_date:\n",
        "        for o2 in O2:\n",
        "            if o2[0]==current_date.strftime('%Y-%m-%d'):\n",
        "                if o2[-1] is None:\n",
        "                    continue\n",
        "                else:\n",
        "                    aggr+=o2[-1]\n",
        "                    counter+=1\n",
        "        if counter==0:\n",
        "            TotalTable[i].extend([None])\n",
        "        else:\n",
        "            TotalTable[i].extend([aggr/counter])\n",
        "        current_date += timedelta(days=1)\n",
        "        aggr=0\n",
        "        counter=0\n",
        "#TotalTable"
      ]
    },
    {
      "cell_type": "code",
      "execution_count": null,
      "id": "7xEqVs3Q702W",
      "metadata": {
        "colab": {
          "base_uri": "https://localhost:8080/"
        },
        "executionInfo": {
          "elapsed": 399,
          "status": "ok",
          "timestamp": 1715600533466,
          "user": {
            "displayName": "",
            "userId": ""
          },
          "user_tz": -180
        },
        "id": "7xEqVs3Q702W",
        "outputId": "79c1e78f-53e9-41a2-f0c4-a4d3d484a415"
      },
      "outputs": [],
      "source": [
        "#Маркування точок (1 - пожежа, -1 - не пожежа)\n",
        "for i in range(len(TotalTable)):\n",
        "    if points[i][3] is not None:\n",
        "        TotalTable[i].extend([1])\n",
        "    else:\n",
        "        TotalTable[i].extend([-1])\n",
        "TotalTable"
      ]
    },
    {
      "cell_type": "code",
      "execution_count": null,
      "id": "d4f4a69d",
      "metadata": {},
      "outputs": [],
      "source": [
        "#Завантаження отриманих даних до сховища на сервері Google Cloud для Польщі (для України - аналогічно)\n",
        "\n",
        "blob_final = bucket.blob('TotalTable_Final_Poland.json ')\n",
        "\n",
        "data_json = json.dumps(TotalTable)\n",
        "\n",
        "blob_final.upload_from_string(data_json)"
      ]
    },
    {
      "cell_type": "code",
      "execution_count": null,
      "id": "C2qHaUIg7d2u",
      "metadata": {
        "id": "C2qHaUIg7d2u"
      },
      "outputs": [],
      "source": [
        "#Збереження даних у CSV-файл для Польщі (для України - аналогічно)\n",
        "\n",
        "import numpy as np\n",
        "nTotalTable=np.array(TotalTable, dtype=object)\n",
        "file_path = \"TotalTable_Final_Poland.csv\"\n",
        "np.savetxt(file_path, nTotalTable, delimiter=',', fmt='%s')"
      ]
    }
  ],
  "metadata": {
    "colab": {
      "name": "TotalTable",
      "provenance": []
    },
    "kernelspec": {
      "display_name": "Python 3",
      "language": "python",
      "name": "python3"
    },
    "language_info": {
      "codemirror_mode": {
        "name": "ipython",
        "version": 3
      },
      "file_extension": ".py",
      "mimetype": "text/x-python",
      "name": "python",
      "nbconvert_exporter": "python",
      "pygments_lexer": "ipython3",
      "version": "3.10.10"
    }
  },
  "nbformat": 4,
  "nbformat_minor": 5
}
