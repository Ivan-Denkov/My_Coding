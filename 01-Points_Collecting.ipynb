{
  "cells": [
    {
      "cell_type": "markdown",
      "id": "35989d56",
      "metadata": {},
      "source": [
        "Отримання координат точок (де були зафіксовані пожежі або їх не було)"
      ]
    },
    {
      "cell_type": "code",
      "execution_count": null,
      "id": "PJvVgzH6Bjtq057KKyvniNRf",
      "metadata": {
        "executionInfo": {
          "elapsed": 2327,
          "status": "ok",
          "timestamp": 1715435197217,
          "user": {
            "displayName": "",
            "userId": ""
          },
          "user_tz": -180
        },
        "id": "PJvVgzH6Bjtq057KKyvniNRf",
        "tags": []
      },
      "outputs": [],
      "source": [
        "#Ініціалізація (потрібна для подальшої роботи з інструментами GEE)\n",
        "import ee\n",
        "ee.Authenticate()\n",
        "ee.Initialize(project='%Your project ID%')"
      ]
    },
    {
      "cell_type": "code",
      "execution_count": 21,
      "id": "j0zitaFpHXHT",
      "metadata": {
        "executionInfo": {
          "elapsed": 481,
          "status": "ok",
          "timestamp": 1715445185868,
          "user": {
            "displayName": "",
            "userId": ""
          },
          "user_tz": -180
        },
        "id": "j0zitaFpHXHT"
      },
      "outputs": [],
      "source": [
        "#Віднімаємо рік від календарної дати (з урахуванням високосних років)\n",
        "from datetime import datetime\n",
        "from dateutil.relativedelta import relativedelta\n",
        "\n",
        "def minus_year(current_date):\n",
        "    older_date=datetime.strptime(current_date, '%Y-%m-%d')-relativedelta(years=1)\n",
        "    return older_date.strftime('%Y-%m-%d')"
      ]
    },
    {
      "cell_type": "code",
      "execution_count": 22,
      "id": "06vzcrNRq3Va",
      "metadata": {
        "executionInfo": {
          "elapsed": 2,
          "status": "ok",
          "timestamp": 1715445187353,
          "user": {
            "displayName": "",
            "userId": ""
          },
          "user_tz": -180
        },
        "id": "06vzcrNRq3Va"
      },
      "outputs": [],
      "source": [
        "#Номер дня в місяці за його номером в році\n",
        "from datetime import timedelta\n",
        "\n",
        "def day_of_month(year, day_of_year):\n",
        "    base_date = datetime(year, 1, 1)  \n",
        "    target_date = base_date + timedelta(days=day_of_year - 1)  \n",
        "    day_of_month=target_date.day\n",
        "    return day_of_month"
      ]
    },
    {
      "cell_type": "code",
      "execution_count": 23,
      "id": "hE5qxlYYdHbs",
      "metadata": {
        "executionInfo": {
          "elapsed": 405,
          "status": "ok",
          "timestamp": 1715445425770,
          "user": {
            "displayName": "",
            "userId": ""
          },
          "user_tz": -180
        },
        "id": "hE5qxlYYdHbs"
      },
      "outputs": [],
      "source": [
        "#Отримання пожежних/не пожежних даних з квадрату (\"вікна\") з заданими координатами і іншими параметрами\n",
        "\n",
        "import numpy as np\n",
        "from skimage import morphology as skm\n",
        "from skimage import measure\n",
        "\n",
        "def GetDataFromSquare(start_date, end_date, coordX, coordY, deltaX, deltaY, scale, deltaX_small, deltaY_small):\n",
        "    fire_dataset=ee.ImageCollection('ESA/CCI/FireCCI/5_1').filterDate(start_date, end_date).select('BurnDate', 'LandCover')\n",
        "    roi = ee.Geometry.BBox(coordX, coordY, coordX+deltaX, coordY+deltaY)\n",
        "    pixelInfoBbox = fire_dataset.getRegion(roi, scale)\n",
        "    pixelInfoBbox=pixelInfoBbox.getInfo()\n",
        "    pixelInfoBbox=pixelInfoBbox[1:]\n",
        "    matr_img=[]\n",
        "    for i in range(len(pixelInfoBbox)):\n",
        "        if i==0 or pixelInfoBbox[i][2]!=pixelInfoBbox[i-1][2]:\n",
        "            matr_img.insert(0, [])\n",
        "        if pixelInfoBbox[i][4] is None:\n",
        "            matr_img[0].extend([367])\n",
        "        else:\n",
        "            matr_img[0].extend([pixelInfoBbox[i][4]])\n",
        "    matr_trans = np.array(matr_img)#, dtype=np.uint8)\n",
        "    matr_trans_morph=skm.black_tophat(matr_trans)#, square(3)))\n",
        "    matr_trans_morph[matr_trans_morph!=0]=1\n",
        "    labeled_matr, num_features = measure.label(matr_trans_morph, connectivity=1, return_num=True)\n",
        "    if num_features>0:\n",
        "        height=len(labeled_matr)\n",
        "        width=len(labeled_matr[0])\n",
        "        for i in range(1, num_features+1):\n",
        "            rows, cols = np.where(labeled_matr == i)\n",
        "            min=367\n",
        "            for row, col in zip(rows, cols):\n",
        "                num=(height-row-1)*width+col\n",
        "                if pixelInfoBbox[num][4]<min:\n",
        "                    min=pixelInfoBbox[num][4]\n",
        "            for row, col in zip(rows, cols):\n",
        "                if row!=0 and col!=0 and row!=height-1 and col!=width-1:\n",
        "                    num=(height-row-1)*width+col\n",
        "                    if day_of_month(Year, pixelInfoBbox[num][4])>3:\n",
        "                        if pixelInfoBbox[num][5]>=50 and pixelInfoBbox[num][5]<=90:\n",
        "                            if pixelInfoBbox[num][4]==min:\n",
        "                                points.append([pixelInfoBbox[num][0].replace(\"_\", \"-\"), pixelInfoBbox[num][1], pixelInfoBbox[num][2], pixelInfoBbox[num][4]])\n",
        "                                roi_old = ee.Geometry.BBox(pixelInfoBbox[num][1]-deltaX_small, pixelInfoBbox[num][2]-deltaY_small, pixelInfoBbox[num][1]+deltaX_small, pixelInfoBbox[num][2]+deltaY_small)\n",
        "                                matched=False\n",
        "                                older_start_date=start_date\n",
        "                                older_end_date=end_date\n",
        "                                while not matched:\n",
        "                                    older_start_date=minus_year(older_start_date)\n",
        "                                    older_end_date=minus_year(older_end_date)\n",
        "                                    fire_dataset_old=ee.ImageCollection('ESA/CCI/FireCCI/5_1').filterDate(older_start_date, older_end_date).select('BurnDate')\n",
        "                                    pixelInfoBbox_old = fire_dataset_old.getRegion(roi_old, scale)\n",
        "                                    pixelInfoBbox_old=pixelInfoBbox_old.getInfo()\n",
        "                                    pixelInfoBbox_old=pixelInfoBbox_old[1:]\n",
        "                                    for pib_old in pixelInfoBbox_old:\n",
        "                                        if pib_old[1]==pixelInfoBbox[num][1] and pib_old[2]==pixelInfoBbox[num][2] and pib_old[4] is None:\n",
        "                                            points.append([pib_old[0].replace(\"_\", \"-\"), pib_old[1], pib_old[2], pib_old[4]])\n",
        "                                            matched=True\n",
        "                                            break\n",
        "                                        elif pib_old[1]==pixelInfoBbox[num][1] and pib_old[2]==pixelInfoBbox[num][2] and pib_old[4] is not None:\n",
        "                                            break"
      ]
    },
    {
      "cell_type": "code",
      "execution_count": null,
      "id": "CuKYMfKuft4h",
      "metadata": {
        "colab": {
          "base_uri": "https://localhost:8080/"
        },
        "executionInfo": {
          "elapsed": 909213,
          "status": "ok",
          "timestamp": 1710009661857,
          "user": {
            "displayName": "",
            "userId": ""
          },
          "user_tz": -120
        },
        "id": "CuKYMfKuft4h",
        "outputId": "f929daec-c68c-427a-d178-6a08741f0728"
      },
      "outputs": [],
      "source": [
        "#Збір даних по лісах України\n",
        "points=[]\n",
        "scale_meters=1000\n",
        "Xdelta=0.5\n",
        "Ydelta=0.25\n",
        "Xdelta_small=0.01\n",
        "Ydelta_small=0.01\n",
        "border = ee.FeatureCollection(\"FAO/GAUL/2015/level0\").filter(ee.Filter.eq('ADM0_NAME', 'Ukraine'))\n",
        "ukr = ee.Feature(border.first())\n",
        "ukr_geometry=ukr.geometry()\n",
        "\n",
        "for Year in range(2017, 2021):\n",
        "    for Month in range(3, 12):\n",
        "        if Month<9:\n",
        "            date_start=str(Year)+'-0'+str(Month)+'-01'\n",
        "            date_end=str(Year)+'-0'+str(Month+1)+'-01'\n",
        "        elif Month==9:\n",
        "            date_start=str(Year)+'-0'+str(Month)+'-01'\n",
        "            date_end=str(Year)+'-'+str(Month+1)+'-01'\n",
        "        else:\n",
        "            date_start=str(Year)+'-'+str(Month)+'-01'\n",
        "            date_end=str(Year)+'-'+str(Month+1)+'-01'\n",
        "        print(date_start, date_end)\n",
        "        Ycoord=49.9\n",
        "        while Ycoord<52.4:\n",
        "            Xcoord=23\n",
        "            while Xcoord<35:\n",
        "                bbox=ee.Geometry.BBox(Xcoord, Ycoord, Xcoord+Xdelta, Ycoord+Ydelta)\n",
        "                if bbox.intersects(ukr_geometry, maxError=1).getInfo():\n",
        "                    GetDataFromSquare(date_start, date_end, Xcoord, Ycoord, Xdelta, Ydelta, scale_meters, Xdelta_small, Ydelta_small)\n",
        "                Xcoord+=0.5\n",
        "            Ycoord+=0.25\n",
        "        Ycoord=47.65\n",
        "        while Ycoord<49.9:\n",
        "            Xcoord=22\n",
        "            while Xcoord<26.5:\n",
        "                bbox=ee.Geometry.BBox(Xcoord, Ycoord, Xcoord+Xdelta, Ycoord+Ydelta)\n",
        "                if bbox.intersects(ukr_geometry, maxError=1).getInfo():\n",
        "                    GetDataFromSquare(date_start, date_end, Xcoord, Ycoord, Xdelta, Ydelta, scale_meters, Xdelta_small, Ydelta_small)\n",
        "                Xcoord+=0.5\n",
        "            Ycoord+=0.25"
      ]
    },
    {
      "cell_type": "code",
      "execution_count": null,
      "id": "HNzhqK_pxIyk",
      "metadata": {
        "colab": {
          "base_uri": "https://localhost:8080/"
        },
        "executionInfo": {
          "elapsed": 4151275,
          "status": "ok",
          "timestamp": 1715449757333,
          "user": {
            "displayName": "",
            "userId": ""
          },
          "user_tz": -180
        },
        "id": "HNzhqK_pxIyk",
        "outputId": "a335f34a-1ab9-4de1-9471-b33b6facaf40"
      },
      "outputs": [],
      "source": [
        "#Збір даних по лісах Польші\n",
        "points=[]\n",
        "scale_meters=1000\n",
        "Xdelta=0.5\n",
        "Ydelta=0.25\n",
        "Xdelta_small=0.01\n",
        "Ydelta_small=0.01\n",
        "border = ee.FeatureCollection(\"FAO/GAUL/2015/level0\").filter(ee.Filter.eq('ADM0_NAME', 'Poland'))\n",
        "pol = ee.Feature(border.first())\n",
        "pol_geometry=pol.geometry()\n",
        "\n",
        "for Year in range(2017, 2021):\n",
        "    for Month in range(3, 12):\n",
        "        if Month<9:\n",
        "            date_start=str(Year)+'-0'+str(Month)+'-01'\n",
        "            date_end=str(Year)+'-0'+str(Month+1)+'-01'\n",
        "        elif Month==9:\n",
        "            date_start=str(Year)+'-0'+str(Month)+'-01'\n",
        "            date_end=str(Year)+'-'+str(Month+1)+'-01'\n",
        "        else:\n",
        "            date_start=str(Year)+'-'+str(Month)+'-01'\n",
        "            date_end=str(Year)+'-'+str(Month+1)+'-01'\n",
        "        print(date_start, date_end)\n",
        "        Ycoord=49\n",
        "        while Ycoord<55:\n",
        "            Xcoord=14.1\n",
        "            while Xcoord<24.1:\n",
        "                bbox=ee.Geometry.BBox(Xcoord, Ycoord, Xcoord+Xdelta, Ycoord+Ydelta)\n",
        "                if bbox.intersects(pol_geometry, maxError=1).getInfo():\n",
        "                    GetDataFromSquare(date_start, date_end, Xcoord, Ycoord, Xdelta, Ydelta, scale_meters, Xdelta_small, Ydelta_small)\n",
        "                Xcoord+=0.5\n",
        "            Ycoord+=0.25"
      ]
    },
    {
      "cell_type": "code",
      "execution_count": null,
      "id": "TvUJacIgHcvD",
      "metadata": {
        "id": "TvUJacIgHcvD"
      },
      "outputs": [],
      "source": [
        "#Збереження даних у CSV-файл для Польщі (для України - аналогічно)\n",
        "npoints=np.array(points, dtype=object)\n",
        "file_path = \"points_poland.csv\"\n",
        "np.savetxt(file_path, npoints, delimiter=',', fmt='%s')"
      ]
    },
    {
      "cell_type": "code",
      "execution_count": null,
      "id": "ruyodadiaYHg",
      "metadata": {
        "id": "ruyodadiaYHg"
      },
      "outputs": [],
      "source": [
        "#Завантаження отриманих даних до сховища на сервері Google Cloud для Польщі (для України - аналогічно)\n",
        "from google.cloud import storage\n",
        "import json\n",
        "\n",
        "client = storage.Client()\n",
        "\n",
        "bucket = client.get_bucket('%your_bucket_name%')\n",
        "\n",
        "blob = bucket.blob('points_poland.json')\n",
        "\n",
        "data_json = json.dumps(points)\n",
        "\n",
        "blob.upload_from_string(data_json)"
      ]
    }
  ],
  "metadata": {
    "colab": {
      "name": "Correlation_Update",
      "provenance": []
    },
    "kernelspec": {
      "display_name": "Python 3",
      "language": "python",
      "name": "python3"
    },
    "language_info": {
      "codemirror_mode": {
        "name": "ipython",
        "version": 3
      },
      "file_extension": ".py",
      "mimetype": "text/x-python",
      "name": "python",
      "nbconvert_exporter": "python",
      "pygments_lexer": "ipython3",
      "version": "3.10.10"
    }
  },
  "nbformat": 4,
  "nbformat_minor": 5
}
