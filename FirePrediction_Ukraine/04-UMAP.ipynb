{
  "cells": [
    {
      "cell_type": "code",
      "execution_count": null,
      "id": "8b44a1e1",
      "metadata": {},
      "outputs": [],
      "source": [
        "Обробка даних за допомогою UMAP"
      ]
    },
    {
      "cell_type": "code",
      "execution_count": null,
      "id": "icwxKoXcjy5PcSn5DgXwPfsI",
      "metadata": {
        "colab": {
          "base_uri": "https://localhost:8080/"
        },
        "executionInfo": {
          "elapsed": 4078,
          "status": "ok",
          "timestamp": 1720806267944,
          "user": {
            "displayName": "",
            "userId": ""
          },
          "user_tz": -180
        },
        "id": "icwxKoXcjy5PcSn5DgXwPfsI",
        "outputId": "c3f1d85d-59e0-46c5-eec4-c264d5a9aa80",
        "tags": []
      },
      "outputs": [],
      "source": [
        "#Вивантаження отриманих даних зі сховища на сервері Google Cloud для Польщі (для України - аналогічно)\n",
        "\n",
        "from google.cloud import storage\n",
        "import json\n",
        "TotalTable=[]\n",
        "\n",
        "client = storage.Client()\n",
        "\n",
        "bucket = client.get_bucket('%your_bucket_name%')\n",
        "\n",
        "blob = bucket.blob('TotalTable_Final_Poland.json ')\n",
        "\n",
        "data_json = blob.download_as_string()\n",
        "\n",
        "TotalTable = json.loads(data_json)\n",
        "TotalTable"
      ]
    },
    {
      "cell_type": "code",
      "execution_count": null,
      "id": "IAqi4Hcebyn4",
      "metadata": {
        "colab": {
          "base_uri": "https://localhost:8080/"
        },
        "executionInfo": {
          "elapsed": 580,
          "status": "ok",
          "timestamp": 1720812519281,
          "user": {
            "displayName": "",
            "userId": ""
          },
          "user_tz": -180
        },
        "id": "IAqi4Hcebyn4",
        "outputId": "8930d763-73f3-4fca-fd68-cb9b63b4eb52"
      },
      "outputs": [],
      "source": [
        "#Вивантаження даних з CSV-файлу для Польщі (для України - аналогічно)\n",
        "\n",
        "import csv\n",
        "\n",
        "TotalTable = []\n",
        "\n",
        "with open('TotalTable_Final_Poland.csv', newline='') as csvfile:\n",
        "    reader = csv.reader(csvfile, delimiter=',')\n",
        "    for row in reader:\n",
        "        cleaned_row = []\n",
        "        for value in row:\n",
        "            try:\n",
        "                cleaned_row.append(float(value.strip(\"[] \")))\n",
        "            except ValueError:\n",
        "                cleaned_row.append(value.strip(\"[] \"))\n",
        "        TotalTable.append(cleaned_row)\n",
        "\n",
        "print(TotalTable)"
      ]
    },
    {
      "cell_type": "code",
      "execution_count": null,
      "id": "F6CLgK8beRsA",
      "metadata": {
        "colab": {
          "base_uri": "https://localhost:8080/"
        },
        "executionInfo": {
          "elapsed": 507,
          "status": "ok",
          "timestamp": 1720812541854,
          "user": {
            "displayName": "",
            "userId": ""
          },
          "user_tz": -180
        },
        "id": "F6CLgK8beRsA",
        "outputId": "70321e93-57eb-48ed-b8e2-9f0b1e21bc7c"
      },
      "outputs": [],
      "source": [
        "#(за необхідності) Видалення одинарних лапок у None, якщо вони з'явились при імпортуванні з CSV\n",
        "for i in range(len(TotalTable)):\n",
        "    for j in range(len(TotalTable[i])):\n",
        "        if TotalTable[i][j]=='None':\n",
        "            TotalTable[i][j]=None\n",
        "\n",
        "TotalTable"
      ]
    },
    {
      "cell_type": "code",
      "execution_count": null,
      "id": "sPzFdJQuaiAA",
      "metadata": {
        "colab": {
          "base_uri": "https://localhost:8080/"
        },
        "executionInfo": {
          "elapsed": 437,
          "status": "ok",
          "timestamp": 1720812754808,
          "user": {
            "displayName": "",
            "userId": ""
          },
          "user_tz": -180
        },
        "id": "sPzFdJQuaiAA",
        "outputId": "8c20d225-88d0-4b2d-ef78-0c2df9a5a0e8"
      },
      "outputs": [],
      "source": [
        "#Підготовка даних до обробки методом UMAP, видаляються поля, які не використовуватимуться і записи, які містять None\n",
        "import numpy as np\n",
        "npTotalTable=np.array(TotalTable)\n",
        "mask=np.all(npTotalTable!=None, axis=1)\n",
        "newTotalTable=npTotalTable[mask, 3:]\n",
        "newTotalTable"
      ]
    },
    {
      "cell_type": "code",
      "execution_count": null,
      "id": "kVaBnOXma3yn",
      "metadata": {
        "colab": {
          "base_uri": "https://localhost:8080/"
        },
        "executionInfo": {
          "elapsed": 95035,
          "status": "ok",
          "timestamp": 1720806497318,
          "user": {
            "displayName": "",
            "userId": ""
          },
          "user_tz": -180
        },
        "id": "kVaBnOXma3yn",
        "outputId": "99aa7d16-9f0a-4ea9-d309-c4d81c6b71ec"
      },
      "outputs": [],
      "source": [
        "#Обробка методом UMAP; поле з маркером (+1/-1) на цей час відділяється; цей модуль слід запускати для України  \n",
        "import umap\n",
        "\n",
        "fire_ind=newTotalTable[:,-1]\n",
        "newTotalTable=newTotalTable[:,:-1]\n",
        "\n",
        "umap_model = umap.UMAP(n_neighbors=15, min_dist=0, n_components=15)\n",
        "umap_model.fit(newTotalTable)\n",
        "Orthog_TotalTable = umap_model.transform(newTotalTable)\n",
        "Orthog_TotalTable"
      ]
    },
    {
      "cell_type": "code",
      "execution_count": null,
      "id": "kNpiIB9ycSwq",
      "metadata": {
        "colab": {
          "base_uri": "https://localhost:8080/"
        },
        "executionInfo": {
          "elapsed": 8654,
          "status": "ok",
          "timestamp": 1720812956291,
          "user": {
            "displayName": "",
            "userId": ""
          },
          "user_tz": -180
        },
        "id": "kNpiIB9ycSwq",
        "outputId": "ace2501b-f9da-4026-aae6-eee85847536a"
      },
      "outputs": [],
      "source": [
        "#Цей модуль аналогічний попередньому, але використовується вже раніше \"навчений\" базис UMAP; слід запускати для Польщі\n",
        "fire_ind=newTotalTable[:,-1]\n",
        "newTotalTable=newTotalTable[:,:-1]\n",
        "Orthog_TotalTable = umap_model.transform(newTotalTable)\n",
        "Orthog_TotalTable"
      ]
    },
    {
      "cell_type": "code",
      "execution_count": null,
      "id": "MEeSxhbGi4sy",
      "metadata": {
        "colab": {
          "base_uri": "https://localhost:8080/"
        },
        "executionInfo": {
          "elapsed": 379,
          "status": "ok",
          "timestamp": 1718029084446,
          "user": {
            "displayName": "",
            "userId": ""
          },
          "user_tz": -180
        },
        "id": "MEeSxhbGi4sy",
        "outputId": "aaa18dcb-7b63-42af-9ff3-4ae8694973f0"
      },
      "outputs": [],
      "source": [
        "#Приєднання поля з маркером (+1/-1)\n",
        "Orthog_TotalTable = np.hstack((Orthog_TotalTable, fire_ind.reshape(-1, 1)))\n",
        "Orthog_TotalTable"
      ]
    },
    {
      "cell_type": "code",
      "execution_count": null,
      "id": "b_eMSOnzl0A6",
      "metadata": {
        "colab": {
          "base_uri": "https://localhost:8080/"
        },
        "executionInfo": {
          "elapsed": 9,
          "status": "ok",
          "timestamp": 1718029120861,
          "user": {
            "displayName": "",
            "userId": ""
          },
          "user_tz": -180
        },
        "id": "b_eMSOnzl0A6",
        "outputId": "ca484f98-1f83-46ab-b791-e06e41537754"
      },
      "outputs": [],
      "source": [
        "#Перевод у формат списку (зручніше для деяких операцій)\n",
        "TotalTable_Orthog=Orthog_TotalTable.tolist()\n",
        "TotalTable_Orthog"
      ]
    },
    {
      "cell_type": "code",
      "execution_count": null,
      "id": "cIE4YIU0kfLS",
      "metadata": {
        "id": "cIE4YIU0kfLS"
      },
      "outputs": [],
      "source": [
        "#Функція пошуку умовних ймовірностей пожеж і не пожеж у вказаному діапазоні\n",
        "def SearchStat(array, col_index, left_border, right_border):\n",
        "    total=0\n",
        "    counter=0\n",
        "    for i in range(len(array)):\n",
        "        if array[i][col_index] is None:\n",
        "            continue\n",
        "        elif array[i][col_index]>=left_border and array[i][col_index]<right_border:\n",
        "            total+=1\n",
        "            if array[i][-1]==1:\n",
        "                counter+=1\n",
        "    return counter/total"
      ]
    },
    {
      "cell_type": "code",
      "execution_count": null,
      "id": "AJucRJiBkue5",
      "metadata": {
        "colab": {
          "base_uri": "https://localhost:8080/"
        },
        "executionInfo": {
          "elapsed": 341,
          "status": "ok",
          "timestamp": 1718026572139,
          "user": {
            "displayName": "",
            "userId": ""
          },
          "user_tz": -180
        },
        "id": "AJucRJiBkue5",
        "outputId": "7f692a88-9fec-4dd3-c2c2-4cfc000abe11"
      },
      "outputs": [],
      "source": [
        "#Утворення таблиці статистики (межі рівноймовірних діапазонів атрибутів та умовні ймовріності пожеж та не пожеж)\n",
        "StatTable=[]\n",
        "for j in range(len(Orthog_TotalTable[0])-1):\n",
        "    temp_arr=Orthog_TotalTable[:, j]\n",
        "    temp_arr=np.sort(temp_arr)\n",
        "    B0=temp_arr[0]\n",
        "    B8=temp_arr[-1]\n",
        "    B4=np.median(temp_arr)\n",
        "    left_half, right_half = np.split(temp_arr, [len(temp_arr)//2])\n",
        "    B2=np.median(left_half)\n",
        "    B6=np.median(right_half)\n",
        "    first_quarter, second_quarter = np.split(left_half, [len(left_half)//2])\n",
        "    third_quarter, fourth_quarter = np.split(right_half, [len(right_half)//2])\n",
        "    B1=np.median(first_quarter)\n",
        "    B3=np.median(second_quarter)\n",
        "    B5=np.median(third_quarter)\n",
        "    B7=np.median(fourth_quarter)\n",
        "    StatTable.append([B0, B1, B2, B3, B4, B5, B6, B7, B8])\n",
        "    coincidences=0\n",
        "    n=len(StatTable[-1])\n",
        "    for k in range(n-1):\n",
        "        if StatTable[-1][k]==StatTable[-1][k+1]:\n",
        "            coincidences+=1\n",
        "            continue\n",
        "        else:\n",
        "            StatTable[-1].extend([SearchStat(Orthog_TotalTable, j, StatTable[-1][k-coincidences], StatTable[-1][k+1])])\n",
        "            coincidences=0\n",
        "StatTable"
      ]
    },
    {
      "cell_type": "code",
      "execution_count": null,
      "id": "nemjzX-fm1Xa",
      "metadata": {
        "colab": {
          "base_uri": "https://localhost:8080/"
        },
        "executionInfo": {
          "elapsed": 369,
          "status": "ok",
          "timestamp": 1718029129252,
          "user": {
            "displayName": "",
            "userId": ""
          },
          "user_tz": -180
        },
        "id": "nemjzX-fm1Xa",
        "outputId": "e22f7a0f-fe1f-4388-ef52-7861106ddb00"
      },
      "outputs": [],
      "source": [
        "#Прогнозування пожеж на основі добутку відношень умовних ймовірностей пожеж і не пожеж \n",
        "for i in range(len(TotalTable_Orthog)):\n",
        "    multiple=1\n",
        "    for j in range(len(TotalTable_Orthog[i])-1):\n",
        "        if TotalTable_Orthog[i][j] is not None:\n",
        "            coincidences=0\n",
        "            for k in range(8):\n",
        "                if StatTable[j][k]==StatTable[j][k+1]:\n",
        "                    coincidences+=1\n",
        "                    continue\n",
        "                elif TotalTable_Orthog[i][j]>=StatTable[j][k] and TotalTable_Orthog[i][j]<StatTable[j][k+1]:\n",
        "                    #if TotalTable_Orthog[i][-1]==1:\n",
        "                    if StatTable[j][k+9-coincidences]!=1:\n",
        "                        multiple*=StatTable[j][k+9-coincidences]/(1-StatTable[j][k+9-coincidences])\n",
        "                    else:\n",
        "                        multiple*=100\n",
        "                    break\n",
        "    TotalTable_Orthog[i].extend([multiple])\n",
        "TotalTable_Orthog"
      ]
    },
    {
      "cell_type": "code",
      "execution_count": null,
      "id": "AANTEYtinUsB",
      "metadata": {
        "colab": {
          "base_uri": "https://localhost:8080/"
        },
        "executionInfo": {
          "elapsed": 398,
          "status": "ok",
          "timestamp": 1718029136684,
          "user": {
            "displayName": "",
            "userId": ""
          },
          "user_tz": -180
        },
        "id": "AANTEYtinUsB",
        "outputId": "657e811f-270b-430a-b006-6356909c3cbd"
      },
      "outputs": [],
      "source": [
        "#Отримання матриці невідповідностей\n",
        "A11=0\n",
        "A12=0\n",
        "A21=0\n",
        "A22=0\n",
        "for tt in TotalTable_Orthog:\n",
        "    if tt[-2]==1:\n",
        "        if tt[-1]>=1:\n",
        "            A11+=1\n",
        "        else:\n",
        "            A21+=1\n",
        "    else:\n",
        "        if tt[-1]<1:\n",
        "            A22+=1\n",
        "        else:\n",
        "            A12+=1\n",
        "print(A11)\n",
        "print(A12)\n",
        "print(A21)\n",
        "print(A22)"
      ]
    },
    {
      "cell_type": "code",
      "execution_count": null,
      "id": "R6-QjM0UYhvz",
      "metadata": {
        "colab": {
          "base_uri": "https://localhost:8080/"
        },
        "executionInfo": {
          "elapsed": 396,
          "status": "ok",
          "timestamp": 1718029198457,
          "user": {
            "displayName": "",
            "userId": ""
          },
          "user_tz": -180
        },
        "id": "R6-QjM0UYhvz",
        "outputId": "cf667f6d-9425-4c8f-c575-634c8d1e4baf"
      },
      "outputs": [],
      "source": [
        "#Відбір фактичних показників (маркерів) стану пожежі/не пожежі для побудови ROC-кривої\n",
        "Orthog_TotalTable=np.array(TotalTable_Orthog)\n",
        "res_true=Orthog_TotalTable[:, -2]\n",
        "res_true=res_true.tolist()\n",
        "res_true"
      ]
    },
    {
      "cell_type": "code",
      "execution_count": null,
      "id": "bqniHWvQYtDC",
      "metadata": {
        "colab": {
          "base_uri": "https://localhost:8080/"
        },
        "executionInfo": {
          "elapsed": 347,
          "status": "ok",
          "timestamp": 1718029202080,
          "user": {
            "displayName": "",
            "userId": ""
          },
          "user_tz": -180
        },
        "id": "bqniHWvQYtDC",
        "outputId": "99efd957-46f6-40b7-b5ab-012d1128bf9b"
      },
      "outputs": [],
      "source": [
        "#Відбір прогнозованих показників стану пожежі/не пожежі для побудови ROC-кривої\n",
        "res_test=Orthog_TotalTable[:, -1]\n",
        "res_test=res_test.tolist()\n",
        "res_test"
      ]
    },
    {
      "cell_type": "code",
      "execution_count": null,
      "id": "gjRSwUdFY0mr",
      "metadata": {
        "colab": {
          "base_uri": "https://localhost:8080/",
          "height": 472
        },
        "executionInfo": {
          "elapsed": 426,
          "status": "ok",
          "timestamp": 1718029205892,
          "user": {
            "displayName": "",
            "userId": ""
          },
          "user_tz": -180
        },
        "id": "gjRSwUdFY0mr",
        "outputId": "7487b0bf-9276-4c00-a65c-4824ffbb63c8"
      },
      "outputs": [],
      "source": [
        "#Побудова ROC-кривої\n",
        "import matplotlib.pyplot as plt\n",
        "from sklearn.metrics import roc_curve, roc_auc_score\n",
        "\n",
        "fpr, tpr, thresholds = roc_curve(res_true, res_test)\n",
        "\n",
        "roc_auc = roc_auc_score(res_true, res_test)\n",
        "\n",
        "plt.figure()\n",
        "plt.plot(fpr, tpr, color='blue', lw=2, label=f'ROC curve (area = {roc_auc:.2f})')\n",
        "plt.plot([0, 1], [0, 1], color='gray', lw=2, linestyle='--')\n",
        "plt.xlim([0.0, 1.0])\n",
        "plt.ylim([0.0, 1.0])\n",
        "plt.xlabel('False Positive Rate')\n",
        "plt.ylabel('True Positive Rate')\n",
        "plt.title('Receiver Operating Characteristic (ROC)')\n",
        "plt.legend(loc='lower right')\n",
        "plt.show()"
      ]
    },
    {
      "cell_type": "code",
      "execution_count": null,
      "id": "cFjrVGvj44sk",
      "metadata": {
        "colab": {
          "base_uri": "https://localhost:8080/"
        },
        "executionInfo": {
          "elapsed": 457,
          "status": "ok",
          "timestamp": 1720812969745,
          "user": {
            "displayName": "",
            "userId": ""
          },
          "user_tz": -180
        },
        "id": "cFjrVGvj44sk",
        "outputId": "c5a8798c-ba8e-417e-9b7d-da53aca50b0f"
      },
      "outputs": [],
      "source": [
        "#Обрахування кореляції кожного з 15 атрибутів з полем маркерів (+1/-1), щоб надалі відібрати ті, що найкраще корелюють\n",
        "ind_fire=fire_ind.tolist()\n",
        "for i in range(len(Orthog_TotalTable[0])):\n",
        "    print(i)\n",
        "    temp_arr=Orthog_TotalTable[:, i].tolist()\n",
        "    print(np.corrcoef(temp_arr, ind_fire)[0, 1])"
      ]
    },
    {
      "cell_type": "code",
      "execution_count": null,
      "id": "vk_-4zev60p-",
      "metadata": {
        "colab": {
          "base_uri": "https://localhost:8080/",
          "height": 430
        },
        "executionInfo": {
          "elapsed": 334,
          "status": "ok",
          "timestamp": 1720820391309,
          "user": {
            "displayName": "",
            "userId": ""
          },
          "user_tz": -180
        },
        "id": "vk_-4zev60p-",
        "outputId": "6ae8cb8b-ed06-441e-f2a5-ec3c62884882"
      },
      "outputs": [],
      "source": [
        "#Розрахунок даних для побудови кусково-лінійної діаграми кореляції окремого параметра з маркерами (в даному випадку - атрибут номер 10)\n",
        "import matplotlib.pyplot as plt\n",
        "\n",
        "temp_arr=Orthog_TotalTable[:, 10]\n",
        "temp_arr_1 = temp_arr[fire_ind == 1]\n",
        "temp_arr_minus_1 = temp_arr[fire_ind == -1]\n",
        "\n",
        "counts_1, bins_1, patches_1=plt.hist(temp_arr_1, bins=8)\n",
        "bin_centers_1 = 0.5 * (bins_1[:-1] + bins_1[1:])\n",
        "diff_1=bin_centers_1[1]-bin_centers_1[0]\n",
        "bins_ext_1 = np.concatenate(([bin_centers_1[0]-diff_1], bin_centers_1, [bin_centers_1[-1]+diff_1]))\n",
        "counts_ext_1 = np.concatenate(([0], counts_1, [0]))\n",
        "\n",
        "counts_minus_1, bins_minus_1, patches_minus_1=plt.hist(temp_arr_minus_1, bins=8)\n",
        "bin_centers_minus_1 = 0.5 * (bins_minus_1[:-1] + bins_minus_1[1:])\n",
        "diff_minus_1=bin_centers_minus_1[1]-bin_centers_minus_1[0]\n",
        "bins_ext_minus_1 = np.concatenate(([bin_centers_minus_1[0]-diff_minus_1], bin_centers_minus_1, [bin_centers_minus_1[-1]+diff_minus_1]))\n",
        "counts_ext_minus_1 = np.concatenate(([0], counts_minus_1, [0]))"
      ]
    },
    {
      "cell_type": "code",
      "execution_count": null,
      "id": "rEdgVzC0MjtI",
      "metadata": {
        "colab": {
          "base_uri": "https://localhost:8080/"
        },
        "executionInfo": {
          "elapsed": 340,
          "status": "ok",
          "timestamp": 1720820396265,
          "user": {
            "displayName": "",
            "userId": ""
          },
          "user_tz": -180
        },
        "id": "rEdgVzC0MjtI",
        "outputId": "d91c1e12-ce6f-4707-ef02-5f41b3b272e3"
      },
      "outputs": [],
      "source": [
        "#Обрахунок відсоткових співвідношень для відображення на діаграмі\n",
        "counts_1_pc=counts_1/(counts_1+counts_minus_1)*100\n",
        "counts_minus_1_pc=counts_minus_1/(counts_1+counts_minus_1)*100\n",
        "counts_ext_1_pc=np.concatenate(([0], counts_1_pc, [0]))\n",
        "counts_ext_minus_1_pc=np.concatenate(([0], counts_minus_1_pc, [0]))\n",
        "print(counts_ext_1)\n",
        "print(counts_ext_minus_1)\n",
        "print(counts_ext_1_pc)\n",
        "print(counts_ext_minus_1_pc)"
      ]
    },
    {
      "cell_type": "code",
      "execution_count": null,
      "id": "YfOtxcUEaMal",
      "metadata": {
        "colab": {
          "base_uri": "https://localhost:8080/",
          "height": 472
        },
        "executionInfo": {
          "elapsed": 379,
          "status": "ok",
          "timestamp": 1720820399163,
          "user": {
            "displayName": "",
            "userId": ""
          },
          "user_tz": -180
        },
        "id": "YfOtxcUEaMal",
        "outputId": "72df51e5-90ab-48c6-f5b8-3eb5ca74e4f7"
      },
      "outputs": [],
      "source": [
        "#Відображення діаграми кореляції\n",
        "plt.plot(bins_ext_1, counts_ext_1_pc, color='red')\n",
        "plt.plot(bins_ext_minus_1, counts_ext_minus_1_pc, color='green')\n",
        "plt.xlabel('Value')\n",
        "plt.ylabel('Percent')\n",
        "plt.title('Diagram of Data Distribution for Attribute')\n",
        "plt.legend(['Fire', 'Non-fire'])\n",
        "plt.show()"
      ]
    },
    {
      "cell_type": "code",
      "execution_count": null,
      "id": "tSD0WhCOiLJq",
      "metadata": {
        "colab": {
          "base_uri": "https://localhost:8080/"
        },
        "executionInfo": {
          "elapsed": 10277,
          "status": "ok",
          "timestamp": 1720812276049,
          "user": {
            "displayName": "",
            "userId": ""
          },
          "user_tz": -180
        },
        "id": "tSD0WhCOiLJq",
        "outputId": "e37d27d2-5ba4-47c0-db1a-b43cb92d8053"
      },
      "outputs": [],
      "source": [
        "#Обробка методом UMAP для 2D-візуалізації; поле з маркером (+1/-1) відділяється; цей модуль слід запускати для України  \n",
        "\n",
        "fire_ind=newTotalTable[:,-1]\n",
        "newTotalTable=newTotalTable[:,:-1]\n",
        "\n",
        "umap_model1 = umap.UMAP(n_neighbors=15, min_dist=0, n_components=2)\n",
        "umap_model1.fit(newTotalTable)\n",
        "Table_2D = umap_model1.transform(newTotalTable)\n",
        "Table_2D"
      ]
    },
    {
      "cell_type": "code",
      "execution_count": null,
      "id": "Ey2IuLdix2n-",
      "metadata": {
        "colab": {
          "base_uri": "https://localhost:8080/"
        },
        "executionInfo": {
          "elapsed": 3723,
          "status": "ok",
          "timestamp": 1720821370965,
          "user": {
            "displayName": "",
            "userId": ""
          },
          "user_tz": -180
        },
        "id": "Ey2IuLdix2n-",
        "outputId": "c1f31084-3f0c-4cb6-900f-7b954d22710c"
      },
      "outputs": [],
      "source": [
        "#Цей модуль аналогічний попередньому, але використовується вже раніше \"навчений\" базис UMAP; слід запускати для Польщі\n",
        "fire_ind=newTotalTable[:,-1]\n",
        "newTotalTable=newTotalTable[:,:-1]\n",
        "Table_2D = umap_model1.transform(newTotalTable)\n",
        "Table_2D"
      ]
    },
    {
      "cell_type": "code",
      "execution_count": null,
      "id": "mIHwoNtejTY-",
      "metadata": {
        "colab": {
          "base_uri": "https://localhost:8080/",
          "height": 454
        },
        "executionInfo": {
          "elapsed": 373,
          "status": "ok",
          "timestamp": 1720821387547,
          "user": {
            "displayName": "",
            "userId": ""
          },
          "user_tz": -180
        },
        "id": "mIHwoNtejTY-",
        "outputId": "16d5abe2-b700-4743-c68b-15c73367c27d"
      },
      "outputs": [],
      "source": [
        "# 2D-візуалізація результатів UMAP\n",
        "import matplotlib.pyplot as plt\n",
        "from matplotlib.colors import LinearSegmentedColormap\n",
        "\n",
        "colors = [(0, 'green'), (0.5, 'white'), (1, 'red')]\n",
        "custom_cmap = LinearSegmentedColormap.from_list('custom_bwr', colors)\n",
        "#plt.figure(figsize=(10, 8))\n",
        "plt.scatter(Table_2D[:, 0], Table_2D[:, 1], c=fire_ind, s=5, cmap=custom_cmap)\n",
        "plt.title('UMAP projection of the dataset', fontsize=15)\n",
        "#plt.colorbar(label='Fire or Non-fire')\n",
        "plt.show()"
      ]
    }
  ],
  "metadata": {
    "colab": {
      "name": "UMAP",
      "provenance": []
    },
    "kernelspec": {
      "display_name": "Python 3",
      "language": "python",
      "name": "python3"
    },
    "language_info": {
      "codemirror_mode": {
        "name": "ipython",
        "version": 3
      },
      "file_extension": ".py",
      "mimetype": "text/x-python",
      "name": "python",
      "nbconvert_exporter": "python",
      "pygments_lexer": "ipython3",
      "version": "3.10.10"
    }
  },
  "nbformat": 4,
  "nbformat_minor": 5
}
