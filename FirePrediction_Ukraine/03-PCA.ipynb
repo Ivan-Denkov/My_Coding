{
  "cells": [
    {
      "cell_type": "code",
      "execution_count": null,
      "id": "70951ad9",
      "metadata": {},
      "outputs": [],
      "source": [
        "Обробка даних за допомогою PCA"
      ]
    },
    {
      "cell_type": "code",
      "execution_count": null,
      "id": "cngsz-nkM-Ca",
      "metadata": {
        "colab": {
          "base_uri": "https://localhost:8080/"
        },
        "executionInfo": {
          "elapsed": 585,
          "status": "ok",
          "timestamp": 1718024861922,
          "user": {
            "displayName": "",
            "userId": ""
          },
          "user_tz": -180
        },
        "id": "cngsz-nkM-Ca",
        "outputId": "e49d67fc-08b1-472f-f68d-79789c561902"
      },
      "outputs": [],
      "source": [
        "#Вивантаження отриманих даних зі сховища на сервері Google Cloud для Польщі (для України - аналогічно)\n",
        "\n",
        "from google.cloud import storage\n",
        "import json\n",
        "TotalTable=[]\n",
        "\n",
        "client = storage.Client()\n",
        "\n",
        "bucket = client.get_bucket('%your_bucket_name%')\n",
        "\n",
        "blob = bucket.blob('TotalTable_Final_Poland.json ')\n",
        "\n",
        "data_json = blob.download_as_string()\n",
        "\n",
        "TotalTable = json.loads(data_json)\n",
        "TotalTable"
      ]
    },
    {
      "cell_type": "code",
      "execution_count": null,
      "id": "_4a28oYH2Cg-",
      "metadata": {
        "colab": {
          "base_uri": "https://localhost:8080/"
        },
        "executionInfo": {
          "elapsed": 373,
          "status": "ok",
          "timestamp": 1718027843991,
          "user": {
            "displayName": "",
            "userId": ""
          },
          "user_tz": -180
        },
        "id": "_4a28oYH2Cg-",
        "outputId": "f564dfe1-fc0a-4945-b921-0444eca2090a"
      },
      "outputs": [],
      "source": [
        "#Вивантаження даних з CSV-файлу для Польщі (для України - аналогічно)\n",
        "\n",
        "import csv\n",
        "\n",
        "TotalTable = []\n",
        "\n",
        "with open('TotalTable_Final_Poland.csv', newline='') as csvfile:\n",
        "    reader = csv.reader(csvfile, delimiter=',')\n",
        "    for row in reader:\n",
        "        cleaned_row = []\n",
        "        for value in row:\n",
        "            try:\n",
        "                cleaned_row.append(float(value.strip(\"[] \")))\n",
        "            except ValueError:\n",
        "                cleaned_row.append(value.strip(\"[] \"))\n",
        "        TotalTable.append(cleaned_row)\n",
        "\n",
        "print(TotalTable)"
      ]
    },
    {
      "cell_type": "code",
      "execution_count": null,
      "id": "VuMa1QbsVC0f",
      "metadata": {
        "colab": {
          "base_uri": "https://localhost:8080/"
        },
        "executionInfo": {
          "elapsed": 410,
          "status": "ok",
          "timestamp": 1718027858842,
          "user": {
            "displayName": "",
            "userId": ""
          },
          "user_tz": -180
        },
        "id": "VuMa1QbsVC0f",
        "outputId": "23ef08a0-c2d8-4fd2-dd0f-579500cf5e9a"
      },
      "outputs": [],
      "source": [
        "#(за необхідності) Видалення одинарних лапок у None, якщо вони з'явились при імпортуванні з CSV\n",
        "for i in range(len(TotalTable)):\n",
        "    for j in range(len(TotalTable[i])):\n",
        "        if TotalTable[i][j]=='None':\n",
        "            TotalTable[i][j]=None\n",
        "\n",
        "TotalTable"
      ]
    },
    {
      "cell_type": "code",
      "execution_count": null,
      "id": "tehGiT99PbLG",
      "metadata": {
        "colab": {
          "base_uri": "https://localhost:8080/"
        },
        "executionInfo": {
          "elapsed": 343,
          "status": "ok",
          "timestamp": 1718028122051,
          "user": {
            "displayName": "",
            "userId": ""
          },
          "user_tz": -180
        },
        "id": "tehGiT99PbLG",
        "outputId": "c5d2b645-e766-407f-b671-1fcfe6d32d5b"
      },
      "outputs": [],
      "source": [
        "#Підготовка даних до обробки методом PCA, видаляються поля, які не використовуватимуться і записи, які містять None\n",
        "import numpy as np\n",
        "npTotalTable=np.array(TotalTable)\n",
        "mask=np.all(npTotalTable!=None, axis=1)\n",
        "newTotalTable=npTotalTable[mask, 3:]\n",
        "newTotalTable"
      ]
    },
    {
      "cell_type": "code",
      "execution_count": null,
      "id": "GtfwLPfCRe0D",
      "metadata": {
        "colab": {
          "base_uri": "https://localhost:8080/"
        },
        "executionInfo": {
          "elapsed": 1186,
          "status": "ok",
          "timestamp": 1718025226230,
          "user": {
            "displayName": "",
            "userId": ""
          },
          "user_tz": -180
        },
        "id": "GtfwLPfCRe0D",
        "outputId": "0736ee1f-ebb3-4112-8f64-fc0248548380"
      },
      "outputs": [],
      "source": [
        "#Обробка методом PCA; поле з маркером (+1/-1) на цей час відділяється, а після обробки приєднується назад; цей модуль слід запускати для України  \n",
        "from sklearn.decomposition import PCA\n",
        "\n",
        "fire_ind=newTotalTable[:,-1]\n",
        "newTotalTable=newTotalTable[:,:-1]\n",
        "\n",
        "pca = PCA(n_components=15)\n",
        "pca.fit(newTotalTable)\n",
        "Orthog_TotalTable=pca.transform(newTotalTable)\n",
        "Orthog_TotalTable = np.hstack((Orthog_TotalTable, fire_ind.reshape(-1, 1)))\n",
        "Orthog_TotalTable"
      ]
    },
    {
      "cell_type": "code",
      "execution_count": null,
      "id": "bxjy2yfI4SFl",
      "metadata": {
        "colab": {
          "base_uri": "https://localhost:8080/"
        },
        "executionInfo": {
          "elapsed": 369,
          "status": "ok",
          "timestamp": 1718028219073,
          "user": {
            "displayName": "",
            "userId": ""
          },
          "user_tz": -180
        },
        "id": "bxjy2yfI4SFl",
        "outputId": "eb8928f9-e947-4932-ea6c-9f3fc21997ab"
      },
      "outputs": [],
      "source": [
        "#Цей модуль аналогічний попередньому, але використовується вже раніше \"навчений\" базис PCA; слід запускати для Польщі\n",
        "fire_ind=newTotalTable[:,-1]\n",
        "newTotalTable=newTotalTable[:,:-1]\n",
        "Orthog_TotalTable=pca.transform(newTotalTable)\n",
        "Orthog_TotalTable = np.hstack((Orthog_TotalTable, fire_ind.reshape(-1, 1)))\n",
        "Orthog_TotalTable"
      ]
    },
    {
      "cell_type": "code",
      "execution_count": null,
      "id": "W8SV_v9jYURk",
      "metadata": {
        "colab": {
          "base_uri": "https://localhost:8080/"
        },
        "executionInfo": {
          "elapsed": 392,
          "status": "ok",
          "timestamp": 1718028237185,
          "user": {
            "displayName": "",
            "userId": ""
          },
          "user_tz": -180
        },
        "id": "W8SV_v9jYURk",
        "outputId": "fdb05120-3fba-4f1c-fe70-0d92fa38d2b1"
      },
      "outputs": [],
      "source": [
        "#Перевод у формат списку (зручніше для деяких операцій)\n",
        "TotalTable_Orthog=Orthog_TotalTable.tolist()\n",
        "TotalTable_Orthog"
      ]
    },
    {
      "cell_type": "code",
      "execution_count": 5,
      "id": "y1EJHPr6L90c",
      "metadata": {
        "executionInfo": {
          "elapsed": 716,
          "status": "ok",
          "timestamp": 1718025253004,
          "user": {
            "displayName": "",
            "userId": ""
          },
          "user_tz": -180
        },
        "id": "y1EJHPr6L90c"
      },
      "outputs": [],
      "source": [
        "#Функція пошуку умовних ймовірностей пожеж і не пожеж у вказаному діапазоні\n",
        "def SearchStat(array, col_index, left_border, right_border):\n",
        "    total=0\n",
        "    counter=0\n",
        "    for i in range(len(array)):\n",
        "        if array[i][col_index] is None:\n",
        "            continue\n",
        "        elif array[i][col_index]>=left_border and array[i][col_index]<right_border:\n",
        "            total+=1\n",
        "            if array[i][-1]==1:\n",
        "                counter+=1\n",
        "    return counter/total"
      ]
    },
    {
      "cell_type": "code",
      "execution_count": null,
      "id": "Zi5Bqx5zrO6r",
      "metadata": {
        "colab": {
          "base_uri": "https://localhost:8080/"
        },
        "executionInfo": {
          "elapsed": 348,
          "status": "ok",
          "timestamp": 1718025265329,
          "user": {
            "displayName": "",
            "userId": ""
          },
          "user_tz": -180
        },
        "id": "Zi5Bqx5zrO6r",
        "outputId": "8255f162-9a5d-4187-92ff-eb97ae522487"
      },
      "outputs": [],
      "source": [
        "#Утворення таблиці статистики (межі рівноймовірних діапазонів атрибутів та умовні ймовріності пожеж та не пожеж)\n",
        "import numpy as np\n",
        "StatTable=[]\n",
        "for j in range(len(Orthog_TotalTable[0])-1):\n",
        "    temp_arr=Orthog_TotalTable[:, j]\n",
        "    temp_arr=np.sort(temp_arr)\n",
        "    B0=temp_arr[0]\n",
        "    B8=temp_arr[-1]\n",
        "    B4=np.median(temp_arr)\n",
        "    left_half, right_half = np.split(temp_arr, [len(temp_arr)//2])\n",
        "    B2=np.median(left_half)\n",
        "    B6=np.median(right_half)\n",
        "    first_quarter, second_quarter = np.split(left_half, [len(left_half)//2])\n",
        "    third_quarter, fourth_quarter = np.split(right_half, [len(right_half)//2])\n",
        "    B1=np.median(first_quarter)\n",
        "    B3=np.median(second_quarter)\n",
        "    B5=np.median(third_quarter)\n",
        "    B7=np.median(fourth_quarter)\n",
        "    StatTable.append([B0, B1, B2, B3, B4, B5, B6, B7, B8])\n",
        "    coincidences=0\n",
        "    n=len(StatTable[-1])\n",
        "    for k in range(n-1):\n",
        "        if StatTable[-1][k]==StatTable[-1][k+1]:\n",
        "            coincidences+=1\n",
        "            continue\n",
        "        else:\n",
        "            StatTable[-1].extend([SearchStat(Orthog_TotalTable, j, StatTable[-1][k-coincidences], StatTable[-1][k+1])])\n",
        "            coincidences=0\n",
        "StatTable"
      ]
    },
    {
      "cell_type": "code",
      "execution_count": null,
      "id": "6Iufo-qsZpUc",
      "metadata": {
        "colab": {
          "base_uri": "https://localhost:8080/"
        },
        "executionInfo": {
          "elapsed": 414,
          "status": "ok",
          "timestamp": 1718028384069,
          "user": {
            "displayName": "",
            "userId": ""
          },
          "user_tz": -180
        },
        "id": "6Iufo-qsZpUc",
        "outputId": "f3381444-466b-47e0-e93b-5405f54fb68d"
      },
      "outputs": [],
      "source": [
        "#Прогнозування пожеж на основі добутку відношень умовних ймовірностей пожеж і не пожеж \n",
        "for i in range(len(TotalTable_Orthog)):\n",
        "    multiple=1\n",
        "    for j in range(len(TotalTable_Orthog[i])-1):\n",
        "        if TotalTable_Orthog[i][j] is not None:\n",
        "            coincidences=0\n",
        "            for k in range(8):\n",
        "                if StatTable[j][k]==StatTable[j][k+1]:\n",
        "                    coincidences+=1\n",
        "                    continue\n",
        "                elif TotalTable_Orthog[i][j]>=StatTable[j][k] and TotalTable_Orthog[i][j]<StatTable[j][k+1]:\n",
        "                    #if TotalTable_Orthog[i][-1]==1:\n",
        "                    if StatTable[j][k+9-coincidences]!=1:\n",
        "                        multiple*=StatTable[j][k+9-coincidences]/(1-StatTable[j][k+9-coincidences])\n",
        "                    else:\n",
        "                        multiple*=100\n",
        "                    break\n",
        "    TotalTable_Orthog[i].extend([multiple])\n",
        "TotalTable_Orthog"
      ]
    },
    {
      "cell_type": "code",
      "execution_count": null,
      "id": "xKlGt2VVeU4u",
      "metadata": {
        "colab": {
          "base_uri": "https://localhost:8080/"
        },
        "executionInfo": {
          "elapsed": 331,
          "status": "ok",
          "timestamp": 1718028398928,
          "user": {
            "displayName": "",
            "userId": ""
          },
          "user_tz": -180
        },
        "id": "xKlGt2VVeU4u",
        "outputId": "ad57a135-96fe-4298-aeb8-60ac137ffd7c"
      },
      "outputs": [],
      "source": [
        "#Отримання матриці невідповідностей\n",
        "A11=0\n",
        "A12=0\n",
        "A21=0\n",
        "A22=0\n",
        "for tt in TotalTable_Orthog:\n",
        "    if tt[-2]==1:\n",
        "        if tt[-1]>=1:\n",
        "            A11+=1\n",
        "        else:\n",
        "            A21+=1\n",
        "    else:\n",
        "        if tt[-1]<1:\n",
        "            A22+=1\n",
        "        else:\n",
        "            A12+=1\n",
        "print(A11)\n",
        "print(A12)\n",
        "print(A21)\n",
        "print(A22)"
      ]
    },
    {
      "cell_type": "code",
      "execution_count": null,
      "id": "ddc67d1d",
      "metadata": {},
      "outputs": [],
      "source": [
        "#Відбір фактичних показників (маркерів) стану пожежі/не пожежі для побудови ROC-кривої\n",
        "Orthog_TotalTable=np.array(TotalTable_Orthog)\n",
        "res_true=Orthog_TotalTable[:, -2]\n",
        "res_true=res_true.tolist()\n",
        "res_true"
      ]
    },
    {
      "cell_type": "code",
      "execution_count": null,
      "id": "5b6acaef",
      "metadata": {},
      "outputs": [],
      "source": [
        "#Відбір прогнозованих показників стану пожежі/не пожежі для побудови ROC-кривої\n",
        "res_test=Orthog_TotalTable[:, -1]\n",
        "res_test=res_test.tolist()\n",
        "res_test"
      ]
    },
    {
      "cell_type": "code",
      "execution_count": null,
      "id": "gSoRHFZvU486",
      "metadata": {
        "colab": {
          "base_uri": "https://localhost:8080/",
          "height": 472
        },
        "executionInfo": {
          "elapsed": 377,
          "status": "ok",
          "timestamp": 1718028498590,
          "user": {
            "displayName": "",
            "userId": ""
          },
          "user_tz": -180
        },
        "id": "gSoRHFZvU486",
        "outputId": "c3d0619f-9e0c-439e-e451-670495d392e1"
      },
      "outputs": [],
      "source": [
        "#Побудова ROC-кривої\n",
        "import matplotlib.pyplot as plt\n",
        "from sklearn.metrics import roc_curve, roc_auc_score\n",
        "\n",
        "fpr, tpr, thresholds = roc_curve(res_true, res_test)\n",
        "\n",
        "roc_auc = roc_auc_score(res_true, res_test)\n",
        "\n",
        "plt.figure()\n",
        "plt.plot(fpr, tpr, color='blue', lw=2, label=f'ROC curve (area = {roc_auc:.2f})')\n",
        "plt.plot([0, 1], [0, 1], color='gray', lw=2, linestyle='--')\n",
        "plt.xlim([0.0, 1.0])\n",
        "plt.ylim([0.0, 1.0])\n",
        "plt.xlabel('False Positive Rate')\n",
        "plt.ylabel('True Positive Rate')\n",
        "plt.title('Receiver Operating Characteristic (ROC)')\n",
        "plt.legend(loc='lower right')\n",
        "plt.show()"
      ]
    }
  ],
  "metadata": {
    "colab": {
      "name": "PCA",
      "provenance": []
    },
    "kernelspec": {
      "display_name": "Python 3",
      "language": "python",
      "name": "python3"
    },
    "language_info": {
      "codemirror_mode": {
        "name": "ipython",
        "version": 3
      },
      "file_extension": ".py",
      "mimetype": "text/x-python",
      "name": "python",
      "nbconvert_exporter": "python",
      "pygments_lexer": "ipython3",
      "version": "3.10.10"
    }
  },
  "nbformat": 4,
  "nbformat_minor": 5
}
